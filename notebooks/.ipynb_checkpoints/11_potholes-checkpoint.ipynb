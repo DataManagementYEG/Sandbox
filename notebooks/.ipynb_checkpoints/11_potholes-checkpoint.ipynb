{
 "cells": [
  {
   "cell_type": "markdown",
   "metadata": {},
   "source": [
    "# 11 - Potholes\n",
    "\n",
    "Starting to investigate data that might help answer questions.\n",
    "\n",
    "**GitHub Discussion Issue**: https://github.com/DataManagementYEG/Sandbox/issues/11\n"
   ]
  },
  {
   "cell_type": "code",
   "execution_count": 29,
   "metadata": {
    "collapsed": true
   },
   "outputs": [],
   "source": [
    "# standard\n",
    "import pandas as pd\n",
    "import numpy as np\n",
    "\n",
    "# used for plotting\n",
    "import matplotlib.pyplot as plt\n",
    "import matplotlib.dates as mdates\n",
    "import matplotlib.cbook as cbook\n",
    "%matplotlib inline"
   ]
  },
  {
   "cell_type": "code",
   "execution_count": 2,
   "metadata": {
    "collapsed": true
   },
   "outputs": [],
   "source": [
    "# Adding all of the file names into an array\n",
    "files = [\"11_Potholes_Filled.csv\", \"11_Risk_Management_-_Pothole_Payout_Claims.csv\"]\n",
    "\n",
    "# Creating a dictionary by reading all of the data files under data folder\n",
    "data = {}\n",
    "for f in files:\n",
    "    d = pd.read_csv(\"../data/{0}\".format(f))\n",
    "    data[f.replace(\".csv\",\"\")] = d"
   ]
  },
  {
   "cell_type": "code",
   "execution_count": 3,
   "metadata": {},
   "outputs": [
    {
     "name": "stdout",
     "output_type": "stream",
     "text": [
      "\n",
      "============\n",
      "11_Potholes_Filled\n",
      "============\n",
      "   ID                DateTime REPORT_MONTH  REPORT_YEAR REPORT_PERIOD  \\\n",
      "0   1  01/31/2007 12:00:00 AM      January         2007        Jan-07   \n",
      "1   2  02/28/2007 12:00:00 AM     February         2007        Feb-07   \n",
      "2   3  03/31/2007 12:00:00 AM        March         2007        Mar-07   \n",
      "3   4  04/30/2007 12:00:00 AM        April         2007        Apr-07   \n",
      "4   5  05/31/2007 12:00:00 AM          May         2007        May-07   \n",
      "\n",
      "   NUMBER_FILLED  YTD_FILLED  \n",
      "0          14400       14400  \n",
      "1          11500       25900  \n",
      "2          61800       87700  \n",
      "3          37450      125150  \n",
      "4          94500      219650  \n",
      "\n",
      "============\n",
      "11_Risk_Management_-_Pothole_Payout_Claims\n",
      "============\n",
      "   Year       Month  Total Number of Claims Reported  \\\n",
      "0   2010   January                                 6   \n",
      "1   2010  February                                 3   \n",
      "2   2010      March                               16   \n",
      "3   2010     April                                13   \n",
      "4   2010        May                               20   \n",
      "\n",
      "   Number of Claims Paidout  Number of Claims Not Paid  Total Amount Paid ($)  \n",
      "0                         0                          6                   0.00  \n",
      "1                         1                          2                 401.02  \n",
      "2                         2                         14                 998.97  \n",
      "3                         1                         12                 368.00  \n",
      "4                         1                         19                 387.00  \n"
     ]
    }
   ],
   "source": [
    "# Printing first 5 lines of each DataFrame\n",
    "plotdata = \n",
    "    print(\"\\n============\\n\" + k + \"\\n============\")\n",
    "    print(v.head())"
   ]
  },
  {
   "cell_type": "code",
   "execution_count": 7,
   "metadata": {},
   "outputs": [
    {
     "name": "stdout",
     "output_type": "stream",
     "text": [
      "\n",
      "============\n",
      "11_Potholes_Filled\n",
      "============\n",
      "(123, 7)\n",
      "Index(['ID', 'DateTime', 'REPORT_MONTH', 'REPORT_YEAR', 'REPORT_PERIOD',\n",
      "       'NUMBER_FILLED', 'YTD_FILLED'],\n",
      "      dtype='object')\n",
      "      ID                DateTime REPORT_MONTH  REPORT_YEAR REPORT_PERIOD  \\\n",
      "57    58  10/31/2011 12:00:00 AM      October         2011        Oct-11   \n",
      "77    78  06/30/2013 12:00:00 AM         June         2013        Jun-13   \n",
      "111  114  04/30/2016 12:00:00 AM        April         2016      Apr-2016   \n",
      "102  105  07/31/2015 12:00:00 AM         July         2015      Jul-2015   \n",
      "74    75  03/31/2013 12:00:00 AM        March         2013        Mar-13   \n",
      "32    33  09/30/2009 12:00:00 AM    September         2009        Sep-09   \n",
      "1      2  02/28/2007 12:00:00 AM     February         2007        Feb-07   \n",
      "118  121  11/30/2016 12:00:00 AM     November         2016      Nov-2016   \n",
      "81    84  11/30/2013 12:00:00 AM     November         2013        Nov-13   \n",
      "22    23  11/30/2008 12:00:00 AM     November         2008        Nov-08   \n",
      "\n",
      "     NUMBER_FILLED  YTD_FILLED  \n",
      "57           41050      514900  \n",
      "77           68750      450750  \n",
      "111          63148      106252  \n",
      "102          53750      357500  \n",
      "74           68800      125750  \n",
      "32           63850      403800  \n",
      "1            11500       25900  \n",
      "118          42617      517646  \n",
      "81           20950      748500  \n",
      "22           16400      440450  \n",
      "\n",
      "============\n",
      "11_Risk_Management_-_Pothole_Payout_Claims\n",
      "============\n",
      "(60, 6)\n",
      "Index(['Year ', 'Month', 'Total Number of Claims Reported',\n",
      "       'Number of Claims Paidout', 'Number of Claims Not Paid',\n",
      "       'Total Amount Paid ($)'],\n",
      "      dtype='object')\n",
      "    Year        Month  Total Number of Claims Reported  \\\n",
      "9    2010     October                               12   \n",
      "19   2011     August                                47   \n",
      "56   2014  September                                21   \n",
      "10   2010   November                                 8   \n",
      "28   2012         May                               27   \n",
      "38   2013       March                              340   \n",
      "1    2010   February                                 3   \n",
      "18   2011        July                               55   \n",
      "46   2013   November                                14   \n",
      "15   2011      April                               218   \n",
      "\n",
      "    Number of Claims Paidout  Number of Claims Not Paid  Total Amount Paid ($)  \n",
      "9                          1                         11                1283.90  \n",
      "19                        10                         37                6386.00  \n",
      "56                         2                         19                1642.86  \n",
      "10                         0                          8                   0.00  \n",
      "28                         7                         20                3543.12  \n",
      "38                       177                        163               98843.77  \n",
      "1                          1                          2                 401.02  \n",
      "18                        15                         40               12408.20  \n",
      "46                         1                         13                 144.08  \n",
      "15                        52                        166               26723.26  \n"
     ]
    }
   ],
   "source": [
    "# Printing all of the columns\n",
    "for k,v in data.items():\n",
    "    print(\"\\n============\\n\" + k + \"\\n============\")\n",
    "    print(v.shape)\n",
    "    print(v.columns)    \n",
    "    print(v.sample(10))"
   ]
  },
  {
   "cell_type": "markdown",
   "metadata": {},
   "source": [
    "## CheckPoint\n",
    "20170508 RK - neither dataset is detailed.  Data can be joined by Year/Month - but should there be a lag?\n",
    "\n",
    "Q: Are claims the month paid or month reported?  If reported, then the fill count should be higher in months after?\n",
    "\n"
   ]
  },
  {
   "cell_type": "markdown",
   "metadata": {},
   "source": [
    "## Simple Plots"
   ]
  },
  {
   "cell_type": "markdown",
   "metadata": {},
   "source": [
    "### Time Series - Payouts"
   ]
  },
  {
   "cell_type": "code",
   "execution_count": 48,
   "metadata": {},
   "outputs": [
    {
     "name": "stdout",
     "output_type": "stream",
     "text": [
      "0      0.00\n",
      "1    401.02\n",
      "2    998.97\n",
      "3    368.00\n",
      "4    387.00\n",
      "Name: Total Amount Paid ($), dtype: float64\n"
     ]
    }
   ],
   "source": [
    "# Plot df & data\n",
    "plot_df = data[\"11_Risk_Management_-_Pothole_Payout_Claims\"]\n",
    "plot_data = plot_df['Total Amount Paid ($)']\n",
    "\n",
    "print(plot_data.head())\n"
   ]
  },
  {
   "cell_type": "code",
   "execution_count": 44,
   "metadata": {},
   "outputs": [
    {
     "data": {
      "text/plain": [
       "<matplotlib.axes._subplots.AxesSubplot at 0x112f33160>"
      ]
     },
     "execution_count": 44,
     "metadata": {},
     "output_type": "execute_result"
    },
    {
     "data": {
      "image/png": "[encoded data removed]",
      "text/plain": [
       "<matplotlib.figure.Figure at 0x112ca2080>"
      ]
     },
     "metadata": {},
     "output_type": "display_data"
    }
   ],
   "source": [
    "plot_data.plot()"
   ]
  },
  {
   "cell_type": "code",
   "execution_count": 32,
   "metadata": {},
   "outputs": [
    {
     "ename": "AttributeError",
     "evalue": "'Series' object has no attribute 'read'",
     "output_type": "error",
     "traceback": [
      "\u001b[0;31m---------------------------------------------------------------------------\u001b[0m",
      "\u001b[0;31mAttributeError\u001b[0m                            Traceback (most recent call last)",
      "\u001b[0;32m<ipython-input-32-a0eb102be800>\u001b[0m in \u001b[0;36m<module>\u001b[0;34m()\u001b[0m\n\u001b[1;32m      5\u001b[0m \u001b[0;31m#\u001b[0m\u001b[0;34m\u001b[0m\u001b[0;34m\u001b[0m\u001b[0m\n\u001b[1;32m      6\u001b[0m \u001b[0mdatafile\u001b[0m \u001b[0;34m=\u001b[0m \u001b[0mplot_data\u001b[0m\u001b[0;34m\u001b[0m\u001b[0m\n\u001b[0;32m----> 7\u001b[0;31m \u001b[0mr\u001b[0m \u001b[0;34m=\u001b[0m \u001b[0mnp\u001b[0m\u001b[0;34m.\u001b[0m\u001b[0mload\u001b[0m\u001b[0;34m(\u001b[0m\u001b[0mdatafile\u001b[0m\u001b[0;34m)\u001b[0m\u001b[0;34m.\u001b[0m\u001b[0mview\u001b[0m\u001b[0;34m(\u001b[0m\u001b[0mnp\u001b[0m\u001b[0;34m.\u001b[0m\u001b[0mrecarray\u001b[0m\u001b[0;34m)\u001b[0m\u001b[0;34m\u001b[0m\u001b[0m\n\u001b[0m\u001b[1;32m      8\u001b[0m \u001b[0;34m\u001b[0m\u001b[0m\n\u001b[1;32m      9\u001b[0m \u001b[0mfig\u001b[0m \u001b[0;34m=\u001b[0m \u001b[0mplt\u001b[0m\u001b[0;34m.\u001b[0m\u001b[0mfigure\u001b[0m\u001b[0;34m(\u001b[0m\u001b[0;34m)\u001b[0m\u001b[0;34m\u001b[0m\u001b[0m\n",
      "\u001b[0;32m/Users/Rob/Envs/scipy/lib/python3.6/site-packages/numpy/lib/npyio.py\u001b[0m in \u001b[0;36mload\u001b[0;34m(file, mmap_mode, allow_pickle, fix_imports, encoding)\u001b[0m\n\u001b[1;32m    400\u001b[0m         \u001b[0m_ZIP_PREFIX\u001b[0m \u001b[0;34m=\u001b[0m \u001b[0masbytes\u001b[0m\u001b[0;34m(\u001b[0m\u001b[0;34m'PK\\x03\\x04'\u001b[0m\u001b[0;34m)\u001b[0m\u001b[0;34m\u001b[0m\u001b[0m\n\u001b[1;32m    401\u001b[0m         \u001b[0mN\u001b[0m \u001b[0;34m=\u001b[0m \u001b[0mlen\u001b[0m\u001b[0;34m(\u001b[0m\u001b[0mformat\u001b[0m\u001b[0;34m.\u001b[0m\u001b[0mMAGIC_PREFIX\u001b[0m\u001b[0;34m)\u001b[0m\u001b[0;34m\u001b[0m\u001b[0m\n\u001b[0;32m--> 402\u001b[0;31m         \u001b[0mmagic\u001b[0m \u001b[0;34m=\u001b[0m \u001b[0mfid\u001b[0m\u001b[0;34m.\u001b[0m\u001b[0mread\u001b[0m\u001b[0;34m(\u001b[0m\u001b[0mN\u001b[0m\u001b[0;34m)\u001b[0m\u001b[0;34m\u001b[0m\u001b[0m\n\u001b[0m\u001b[1;32m    403\u001b[0m         \u001b[0;31m# If the file size is less than N, we need to make sure not\u001b[0m\u001b[0;34m\u001b[0m\u001b[0;34m\u001b[0m\u001b[0m\n\u001b[1;32m    404\u001b[0m         \u001b[0;31m# to seek past the beginning of the file\u001b[0m\u001b[0;34m\u001b[0m\u001b[0;34m\u001b[0m\u001b[0m\n",
      "\u001b[0;32m/Users/Rob/Envs/scipy/lib/python3.6/site-packages/pandas/core/generic.py\u001b[0m in \u001b[0;36m__getattr__\u001b[0;34m(self, name)\u001b[0m\n\u001b[1;32m   2742\u001b[0m             \u001b[0;32mif\u001b[0m \u001b[0mname\u001b[0m \u001b[0;32min\u001b[0m \u001b[0mself\u001b[0m\u001b[0;34m.\u001b[0m\u001b[0m_info_axis\u001b[0m\u001b[0;34m:\u001b[0m\u001b[0;34m\u001b[0m\u001b[0m\n\u001b[1;32m   2743\u001b[0m                 \u001b[0;32mreturn\u001b[0m \u001b[0mself\u001b[0m\u001b[0;34m[\u001b[0m\u001b[0mname\u001b[0m\u001b[0;34m]\u001b[0m\u001b[0;34m\u001b[0m\u001b[0m\n\u001b[0;32m-> 2744\u001b[0;31m             \u001b[0;32mreturn\u001b[0m \u001b[0mobject\u001b[0m\u001b[0;34m.\u001b[0m\u001b[0m__getattribute__\u001b[0m\u001b[0;34m(\u001b[0m\u001b[0mself\u001b[0m\u001b[0;34m,\u001b[0m \u001b[0mname\u001b[0m\u001b[0;34m)\u001b[0m\u001b[0;34m\u001b[0m\u001b[0m\n\u001b[0m\u001b[1;32m   2745\u001b[0m \u001b[0;34m\u001b[0m\u001b[0m\n\u001b[1;32m   2746\u001b[0m     \u001b[0;32mdef\u001b[0m \u001b[0m__setattr__\u001b[0m\u001b[0;34m(\u001b[0m\u001b[0mself\u001b[0m\u001b[0;34m,\u001b[0m \u001b[0mname\u001b[0m\u001b[0;34m,\u001b[0m \u001b[0mvalue\u001b[0m\u001b[0;34m)\u001b[0m\u001b[0;34m:\u001b[0m\u001b[0;34m\u001b[0m\u001b[0m\n",
      "\u001b[0;31mAttributeError\u001b[0m: 'Series' object has no attribute 'read'"
     ]
    }
   ],
   "source": [
    "years    = mdates.YearLocator()   # every year\n",
    "months   = mdates.MonthLocator()  # every month\n",
    "yearsFmt = mdates.DateFormatter('%Y')\n",
    "\n",
    "# \n",
    "datafile = plot_data\n",
    "r = np.load(datafile).view(np.recarray)\n",
    "\n",
    "fig = plt.figure()\n",
    "ax = fig.add_subplot(111)\n",
    "ax.plot(r.date, r.adj_close)\n",
    "\n",
    "\n",
    "# format the ticks\n",
    "ax.xaxis.set_major_locator(years)\n",
    "ax.xaxis.set_major_formatter(yearsFmt)\n",
    "ax.xaxis.set_minor_locator(months)\n",
    "\n",
    "datemin = datetime.date(r.date.min().year, 1, 1)\n",
    "datemax = datetime.date(r.date.max().year+1, 1, 1)\n",
    "ax.set_xlim(datemin, datemax)\n",
    "\n",
    "# format the coords message box\n",
    "def price(x): return '$%1.2f'%x\n",
    "ax.format_xdata = mdates.DateFormatter('%Y-%m-%d')\n",
    "ax.format_ydata = price\n",
    "ax.grid(True)\n",
    "\n",
    "# rotates and right aligns the x labels, and moves the bottom of the\n",
    "# axes up to make room for them\n",
    "fig.autofmt_xdate()\n",
    "\n",
    "plt.show()"
   ]
  },
  {
   "cell_type": "code",
   "execution_count": 27,
   "metadata": {},
   "outputs": [
    {
     "name": "stdout",
     "output_type": "stream",
     "text": [
      "0          0.00\n",
      "1        401.02\n",
      "2        998.97\n",
      "3        368.00\n",
      "4        387.00\n",
      "5          0.00\n",
      "6       6353.91\n",
      "7       2118.40\n",
      "8        607.00\n",
      "9       1283.90\n",
      "10         0.00\n",
      "11         0.00\n",
      "12         0.00\n",
      "13     10447.05\n",
      "14     27847.77\n",
      "15     26723.26\n",
      "16     18313.96\n",
      "17      6791.20\n",
      "18     12408.20\n",
      "19      6386.00\n",
      "20      4422.73\n",
      "21      2821.56\n",
      "22      1431.35\n",
      "23         0.00\n",
      "24         0.00\n",
      "25         0.00\n",
      "26      2048.97\n",
      "27      3270.97\n",
      "28      3543.12\n",
      "29      5562.81\n",
      "30      6641.88\n",
      "31      3510.61\n",
      "32      1183.88\n",
      "33       900.00\n",
      "34       216.77\n",
      "35       137.02\n",
      "36      8432.86\n",
      "37     56846.28\n",
      "38     98843.77\n",
      "39    188478.01\n",
      "40     60751.46\n",
      "41     27323.44\n",
      "42     35398.90\n",
      "43     18115.39\n",
      "44     10784.23\n",
      "45      4815.02\n",
      "46       144.08\n",
      "47         0.00\n",
      "48       753.55\n",
      "49      1494.63\n",
      "50      1810.69\n",
      "51      4420.61\n",
      "52      3779.56\n",
      "53      1951.79\n",
      "54      2923.33\n",
      "55       564.58\n",
      "56      1642.86\n",
      "57      1799.10\n",
      "58       631.75\n",
      "59         0.00\n",
      "Name: Total Amount Paid ($), dtype: float64\n"
     ]
    },
    {
     "data": {
      "image/png": "[encoded data removed]",
      "text/plain": [
       "<matplotlib.figure.Figure at 0x112afd828>"
      ]
     },
     "metadata": {},
     "output_type": "display_data"
    }
   ],
   "source": [
    "# Histogram of Payouts\n",
    "plot_df = data[\"11_Risk_Management_-_Pothole_Payout_Claims\"]\n",
    "plot_data = plot_df['Total Amount Paid ($)']\n",
    "\n",
    "# the histogram of the data\n",
    "plt.hist(plot_data, 10, normed=1, facecolor='green', alpha=0.75)\n",
    "\n",
    "# add a 'best fit' line\n",
    "#y = mlab.normpdf( bins, mu, sigma)\n",
    "#l = plt.plot(bins, y, 'r--', linewidth=1)\n",
    "\n",
    "plt.xlabel('Smarts')\n",
    "plt.ylabel('Probability')\n",
    "plt.title('Banana')\n",
    "#plt.axis([40, 160, 0, 0.03])\n",
    "plt.grid(True)\n",
    "\n",
    "plt.show()\n"
   ]
  },
  {
   "cell_type": "markdown",
   "metadata": {},
   "source": [
    "## Exploring English language learners and SAT scores"
   ]
  },
  {
   "cell_type": "code",
   "execution_count": 68,
   "metadata": {},
   "outputs": [
    {
     "data": {
      "text/plain": [
       "<matplotlib.axes._subplots.AxesSubplot at 0x10e6d4780>"
      ]
     },
     "execution_count": 68,
     "metadata": {},
     "output_type": "execute_result"
    },
    {
     "data": {
      "image/png": "[encoded data removed]",
      "text/plain": [
       "<matplotlib.figure.Figure at 0x10e5bada0>"
      ]
     },
     "metadata": {},
     "output_type": "display_data"
    }
   ],
   "source": [
    "full.plot.scatter(x='ell_percent', y='sat_score')"
   ]
  },
  {
   "cell_type": "markdown",
   "metadata": {},
   "source": [
    "## Correlating survey scores and SAT scores"
   ]
  },
  {
   "cell_type": "code",
   "execution_count": 69,
   "metadata": {},
   "outputs": [
    {
     "data": {
      "text/plain": [
       "<matplotlib.axes._subplots.AxesSubplot at 0x10e7afa20>"
      ]
     },
     "execution_count": 69,
     "metadata": {},
     "output_type": "execute_result"
    },
    {
     "data": {
      "image/png": "[encoded data removed]",
      "text/plain": [
       "<matplotlib.figure.Figure at 0x10e7c6cf8>"
      ]
     },
     "metadata": {},
     "output_type": "display_data"
    }
   ],
   "source": [
    "full.corr()[\"sat_score\"][[\"rr_s\", \"rr_t\", \"rr_p\", \"N_s\", \"N_t\", \"N_p\", \"saf_tot_11\", \"com_tot_11\", \"aca_tot_11\", \"eng_tot_11\"]].plot.bar()"
   ]
  },
  {
   "cell_type": "markdown",
   "metadata": {},
   "source": [
    "## Exploring race and SAT scores"
   ]
  },
  {
   "cell_type": "code",
   "execution_count": 70,
   "metadata": {},
   "outputs": [
    {
     "data": {
      "text/plain": [
       "<matplotlib.axes._subplots.AxesSubplot at 0x10e858710>"
      ]
     },
     "execution_count": 70,
     "metadata": {},
     "output_type": "execute_result"
    },
    {
     "data": {
      "image/png": "[encoded data removed]",
      "text/plain": [
       "<matplotlib.figure.Figure at 0x10e7cd710>"
      ]
     },
     "metadata": {},
     "output_type": "display_data"
    }
   ],
   "source": [
    "full.corr()[\"sat_score\"][[\"white_per\", \"asian_per\", \"black_per\", \"hispanic_per\"]].plot.bar()"
   ]
  },
  {
   "cell_type": "markdown",
   "metadata": {},
   "source": [
    "## Gender differences in SAT scores"
   ]
  },
  {
   "cell_type": "code",
   "execution_count": 71,
   "metadata": {},
   "outputs": [
    {
     "data": {
      "text/plain": [
       "<matplotlib.axes._subplots.AxesSubplot at 0x108bec668>"
      ]
     },
     "execution_count": 71,
     "metadata": {},
     "output_type": "execute_result"
    },
    {
     "data": {
      "image/png": "[encoded data removed]",
      "text/plain": [
       "<matplotlib.figure.Figure at 0x108bdaa90>"
      ]
     },
     "metadata": {},
     "output_type": "display_data"
    }
   ],
   "source": [
    "full.corr()['sat_score'][['male_per','female_per']].plot.bar()"
   ]
  },
  {
   "cell_type": "code",
   "execution_count": 72,
   "metadata": {},
   "outputs": [
    {
     "data": {
      "text/plain": [
       "<matplotlib.axes._subplots.AxesSubplot at 0x108bbbe10>"
      ]
     },
     "execution_count": 72,
     "metadata": {},
     "output_type": "execute_result"
    },
    {
     "data": {
      "image/png": "[encoded data removed]",
      "text/plain": [
       "<matplotlib.figure.Figure at 0x108bd4128>"
      ]
     },
     "metadata": {},
     "output_type": "display_data"
    }
   ],
   "source": [
    "full[full['sat_score'] > 0].plot.scatter(x='female_per',y='sat_score')"
   ]
  },
  {
   "cell_type": "code",
   "execution_count": 73,
   "metadata": {},
   "outputs": [
    {
     "data": {
      "text/plain": [
       "10              Professional Performing Arts High School\n",
       "14                         Eleanor Roosevelt High School\n",
       "22                          Talent Unlimited High School\n",
       "35     Fiorello H. LaGuardia High School of Music & A...\n",
       "185                          Townsend Harris High School\n",
       "212         Frank Sinatra School of the Arts High School\n",
       "Name: school_name, dtype: object"
      ]
     },
     "execution_count": 73,
     "metadata": {},
     "output_type": "execute_result"
    }
   ],
   "source": [
    "full[(full['sat_score'] > 1400) & (full['female_per'] > 65)]['school_name']"
   ]
  },
  {
   "cell_type": "markdown",
   "metadata": {},
   "source": [
    "## AP scores"
   ]
  },
  {
   "cell_type": "code",
   "execution_count": 74,
   "metadata": {
    "collapsed": true
   },
   "outputs": [],
   "source": [
    "full['ap_avg'] = full['AP Test Takers '] / full['total_enrollment']"
   ]
  },
  {
   "cell_type": "code",
   "execution_count": 75,
   "metadata": {},
   "outputs": [
    {
     "data": {
      "text/plain": [
       "<matplotlib.axes._subplots.AxesSubplot at 0x10b9256d8>"
      ]
     },
     "execution_count": 75,
     "metadata": {},
     "output_type": "execute_result"
    },
    {
     "data": {
      "image/png": "[encoded data removed]",
      "text/plain": [
       "<matplotlib.figure.Figure at 0x10bd0f9b0>"
      ]
     },
     "metadata": {},
     "output_type": "display_data"
    }
   ],
   "source": [
    "full.plot.scatter(x='ap_avg', y='sat_score')"
   ]
  },
  {
   "cell_type": "markdown",
   "metadata": {
    "collapsed": true
   },
   "source": [
    "# Still Working on this\n",
    "there are mapping options and other datasets to include as well, like attendance\n",
    "\n",
    "**bold**\n",
    "- sdf\n",
    "-dsf \n",
    "\n",
    "sd-sd \n"
   ]
  },
  {
   "cell_type": "code",
   "execution_count": null,
   "metadata": {
    "collapsed": true
   },
   "outputs": [],
   "source": []
  }
 ],
 "metadata": {
  "anaconda-cloud": {},
  "kernelspec": {
   "display_name": "Python 3",
   "language": "python",
   "name": "python3"
  },
  "language_info": {
   "codemirror_mode": {
    "name": "ipython",
    "version": 3
   },
   "file_extension": ".py",
   "mimetype": "text/x-python",
   "name": "python",
   "nbconvert_exporter": "python",
   "pygments_lexer": "ipython3",
   "version": "3.6.1"
  }
 },
 "nbformat": 4,
 "nbformat_minor": 1
}
